{
 "cells": [
  {
   "cell_type": "code",
   "execution_count": 21,
   "id": "5b297217",
   "metadata": {},
   "outputs": [],
   "source": [
    "#import all libraries\n",
    "\n",
    "import numpy as np\n",
    "import pandas as pd\n",
    "from sklearn.preprocessing import LabelEncoder, MinMaxScaler, StandardScaler\n",
    "from sklearn.tree import DecisionTreeRegressor\n",
    "from sklearn.ensemble import RandomForestRegressor\n",
    "from sklearn.model_selection import train_test_split\n",
    "from sklearn.metrics import mean_squared_error\n",
    "import matplotlib.pyplot as plt\n",
    "import seaborn as sns\n",
    "\n",
    "import warnings\n",
    "warnings.filterwarnings('ignore')"
   ]
  },
  {
   "cell_type": "code",
   "execution_count": 22,
   "id": "c7e44e30",
   "metadata": {},
   "outputs": [
    {
     "data": {
      "text/html": [
       "<div>\n",
       "<style scoped>\n",
       "    .dataframe tbody tr th:only-of-type {\n",
       "        vertical-align: middle;\n",
       "    }\n",
       "\n",
       "    .dataframe tbody tr th {\n",
       "        vertical-align: top;\n",
       "    }\n",
       "\n",
       "    .dataframe thead th {\n",
       "        text-align: right;\n",
       "    }\n",
       "</style>\n",
       "<table border=\"1\" class=\"dataframe\">\n",
       "  <thead>\n",
       "    <tr style=\"text-align: right;\">\n",
       "      <th></th>\n",
       "      <th>ID</th>\n",
       "      <th>Area</th>\n",
       "      <th>City</th>\n",
       "      <th>Restaurant</th>\n",
       "      <th>Price</th>\n",
       "      <th>Avg ratings</th>\n",
       "      <th>Total ratings</th>\n",
       "      <th>Food type</th>\n",
       "      <th>Address</th>\n",
       "      <th>Delivery time</th>\n",
       "    </tr>\n",
       "  </thead>\n",
       "  <tbody>\n",
       "    <tr>\n",
       "      <th>0</th>\n",
       "      <td>211</td>\n",
       "      <td>Koramangala</td>\n",
       "      <td>Bangalore</td>\n",
       "      <td>Tandoor Hut</td>\n",
       "      <td>300</td>\n",
       "      <td>4.4</td>\n",
       "      <td>100</td>\n",
       "      <td>Biryani,Chinese,North Indian,South Indian</td>\n",
       "      <td>5Th Block</td>\n",
       "      <td>59</td>\n",
       "    </tr>\n",
       "    <tr>\n",
       "      <th>1</th>\n",
       "      <td>221</td>\n",
       "      <td>Koramangala</td>\n",
       "      <td>Bangalore</td>\n",
       "      <td>Tunday Kababi</td>\n",
       "      <td>300</td>\n",
       "      <td>4.1</td>\n",
       "      <td>100</td>\n",
       "      <td>Mughlai,Lucknowi</td>\n",
       "      <td>5Th Block</td>\n",
       "      <td>56</td>\n",
       "    </tr>\n",
       "    <tr>\n",
       "      <th>2</th>\n",
       "      <td>246</td>\n",
       "      <td>Jogupalya</td>\n",
       "      <td>Bangalore</td>\n",
       "      <td>Kim Lee</td>\n",
       "      <td>650</td>\n",
       "      <td>4.4</td>\n",
       "      <td>100</td>\n",
       "      <td>Chinese</td>\n",
       "      <td>Double Road</td>\n",
       "      <td>50</td>\n",
       "    </tr>\n",
       "    <tr>\n",
       "      <th>3</th>\n",
       "      <td>248</td>\n",
       "      <td>Indiranagar</td>\n",
       "      <td>Bangalore</td>\n",
       "      <td>New Punjabi Hotel</td>\n",
       "      <td>250</td>\n",
       "      <td>3.9</td>\n",
       "      <td>500</td>\n",
       "      <td>North Indian,Punjabi,Tandoor,Chinese</td>\n",
       "      <td>80 Feet Road</td>\n",
       "      <td>57</td>\n",
       "    </tr>\n",
       "    <tr>\n",
       "      <th>4</th>\n",
       "      <td>249</td>\n",
       "      <td>Indiranagar</td>\n",
       "      <td>Bangalore</td>\n",
       "      <td>Nh8</td>\n",
       "      <td>350</td>\n",
       "      <td>4.0</td>\n",
       "      <td>50</td>\n",
       "      <td>Rajasthani,Gujarati,North Indian,Snacks,Desser...</td>\n",
       "      <td>80 Feet Road</td>\n",
       "      <td>63</td>\n",
       "    </tr>\n",
       "    <tr>\n",
       "      <th>...</th>\n",
       "      <td>...</td>\n",
       "      <td>...</td>\n",
       "      <td>...</td>\n",
       "      <td>...</td>\n",
       "      <td>...</td>\n",
       "      <td>...</td>\n",
       "      <td>...</td>\n",
       "      <td>...</td>\n",
       "      <td>...</td>\n",
       "      <td>...</td>\n",
       "    </tr>\n",
       "    <tr>\n",
       "      <th>8675</th>\n",
       "      <td>464626</td>\n",
       "      <td>Panjarapole Cross Road</td>\n",
       "      <td>Ahmedabad</td>\n",
       "      <td>Malt Pizza</td>\n",
       "      <td>500</td>\n",
       "      <td>2.9</td>\n",
       "      <td>80</td>\n",
       "      <td>Pizzas</td>\n",
       "      <td>Navrangpura</td>\n",
       "      <td>40</td>\n",
       "    </tr>\n",
       "    <tr>\n",
       "      <th>8676</th>\n",
       "      <td>465835</td>\n",
       "      <td>Rohini</td>\n",
       "      <td>Delhi</td>\n",
       "      <td>Jay Mata Ji Home Kitchen</td>\n",
       "      <td>200</td>\n",
       "      <td>2.9</td>\n",
       "      <td>80</td>\n",
       "      <td>South Indian</td>\n",
       "      <td>Rohini</td>\n",
       "      <td>28</td>\n",
       "    </tr>\n",
       "    <tr>\n",
       "      <th>8677</th>\n",
       "      <td>465872</td>\n",
       "      <td>Rohini</td>\n",
       "      <td>Delhi</td>\n",
       "      <td>Chinese Kitchen King</td>\n",
       "      <td>150</td>\n",
       "      <td>2.9</td>\n",
       "      <td>80</td>\n",
       "      <td>Chinese,Snacks,Tandoor</td>\n",
       "      <td>Rohini</td>\n",
       "      <td>58</td>\n",
       "    </tr>\n",
       "    <tr>\n",
       "      <th>8678</th>\n",
       "      <td>465990</td>\n",
       "      <td>Rohini</td>\n",
       "      <td>Delhi</td>\n",
       "      <td>Shree Ram Paratha Wala</td>\n",
       "      <td>150</td>\n",
       "      <td>2.9</td>\n",
       "      <td>80</td>\n",
       "      <td>North Indian,Indian,Snacks</td>\n",
       "      <td>Rohini</td>\n",
       "      <td>28</td>\n",
       "    </tr>\n",
       "    <tr>\n",
       "      <th>8679</th>\n",
       "      <td>466488</td>\n",
       "      <td>Navrangpura</td>\n",
       "      <td>Ahmedabad</td>\n",
       "      <td>Sassy Street</td>\n",
       "      <td>250</td>\n",
       "      <td>2.9</td>\n",
       "      <td>80</td>\n",
       "      <td>Chaat,Snacks,Chinese</td>\n",
       "      <td>Navrangpura</td>\n",
       "      <td>44</td>\n",
       "    </tr>\n",
       "  </tbody>\n",
       "</table>\n",
       "<p>8680 rows × 10 columns</p>\n",
       "</div>"
      ],
      "text/plain": [
       "          ID                    Area       City                Restaurant  \\\n",
       "0        211             Koramangala  Bangalore               Tandoor Hut   \n",
       "1        221             Koramangala  Bangalore             Tunday Kababi   \n",
       "2        246               Jogupalya  Bangalore                   Kim Lee   \n",
       "3        248             Indiranagar  Bangalore         New Punjabi Hotel   \n",
       "4        249             Indiranagar  Bangalore                       Nh8   \n",
       "...      ...                     ...        ...                       ...   \n",
       "8675  464626  Panjarapole Cross Road  Ahmedabad                Malt Pizza   \n",
       "8676  465835                  Rohini      Delhi  Jay Mata Ji Home Kitchen   \n",
       "8677  465872                  Rohini      Delhi      Chinese Kitchen King   \n",
       "8678  465990                  Rohini      Delhi    Shree Ram Paratha Wala   \n",
       "8679  466488             Navrangpura  Ahmedabad              Sassy Street   \n",
       "\n",
       "      Price  Avg ratings  Total ratings  \\\n",
       "0       300          4.4            100   \n",
       "1       300          4.1            100   \n",
       "2       650          4.4            100   \n",
       "3       250          3.9            500   \n",
       "4       350          4.0             50   \n",
       "...     ...          ...            ...   \n",
       "8675    500          2.9             80   \n",
       "8676    200          2.9             80   \n",
       "8677    150          2.9             80   \n",
       "8678    150          2.9             80   \n",
       "8679    250          2.9             80   \n",
       "\n",
       "                                              Food type       Address  \\\n",
       "0             Biryani,Chinese,North Indian,South Indian     5Th Block   \n",
       "1                                      Mughlai,Lucknowi     5Th Block   \n",
       "2                                               Chinese   Double Road   \n",
       "3                  North Indian,Punjabi,Tandoor,Chinese  80 Feet Road   \n",
       "4     Rajasthani,Gujarati,North Indian,Snacks,Desser...  80 Feet Road   \n",
       "...                                                 ...           ...   \n",
       "8675                                             Pizzas   Navrangpura   \n",
       "8676                                       South Indian        Rohini   \n",
       "8677                             Chinese,Snacks,Tandoor        Rohini   \n",
       "8678                         North Indian,Indian,Snacks        Rohini   \n",
       "8679                               Chaat,Snacks,Chinese   Navrangpura   \n",
       "\n",
       "      Delivery time  \n",
       "0                59  \n",
       "1                56  \n",
       "2                50  \n",
       "3                57  \n",
       "4                63  \n",
       "...             ...  \n",
       "8675             40  \n",
       "8676             28  \n",
       "8677             58  \n",
       "8678             28  \n",
       "8679             44  \n",
       "\n",
       "[8680 rows x 10 columns]"
      ]
     },
     "execution_count": 22,
     "metadata": {},
     "output_type": "execute_result"
    }
   ],
   "source": [
    "# Read the file\n",
    "df = pd.read_csv(\"swiggy-1.csv\")\n",
    "df"
   ]
  },
  {
   "cell_type": "code",
   "execution_count": 53,
   "id": "282d1bf9",
   "metadata": {},
   "outputs": [],
   "source": [
    "def sniff_modified(df):\n",
    "    with pd.option_context(\"display.max_colwidth\", 20):\n",
    "        info = pd.DataFrame()\n",
    "        info['data type'] = df.dtypes\n",
    "        info['percent missing'] = df.isnull().sum()*100/len(df)\n",
    "        info['No. unique'] = df.apply(lambda x: len(x.unique()))\n",
    "        info['unique values'] = df.apply(lambda x: x.unique())\n",
    "        info.columns = info.columns.str.strip()\n",
    "        return info.sort_values('data type')"
   ]
  },
  {
   "cell_type": "markdown",
   "id": "2f9da70a",
   "metadata": {},
   "source": [
    ".This above function is useful for quickly obtaining insights into the characteristics of each column in a DataFrame, which can be valuable during the exploratory data analysis (EDA) phase of a data science project."
   ]
  },
  {
   "cell_type": "code",
   "execution_count": 24,
   "id": "a25be9fb",
   "metadata": {},
   "outputs": [
    {
     "data": {
      "text/html": [
       "<div>\n",
       "<style scoped>\n",
       "    .dataframe tbody tr th:only-of-type {\n",
       "        vertical-align: middle;\n",
       "    }\n",
       "\n",
       "    .dataframe tbody tr th {\n",
       "        vertical-align: top;\n",
       "    }\n",
       "\n",
       "    .dataframe thead th {\n",
       "        text-align: right;\n",
       "    }\n",
       "</style>\n",
       "<table border=\"1\" class=\"dataframe\">\n",
       "  <thead>\n",
       "    <tr style=\"text-align: right;\">\n",
       "      <th></th>\n",
       "      <th>data type</th>\n",
       "      <th>percent missing</th>\n",
       "      <th>No. unique</th>\n",
       "      <th>unique values</th>\n",
       "    </tr>\n",
       "  </thead>\n",
       "  <tbody>\n",
       "    <tr>\n",
       "      <th>ID</th>\n",
       "      <td>int64</td>\n",
       "      <td>0.0</td>\n",
       "      <td>8680</td>\n",
       "      <td>[211, 221, 246, 248, 249, 254, 258, 263, 267, ...</td>\n",
       "    </tr>\n",
       "    <tr>\n",
       "      <th>Price</th>\n",
       "      <td>int64</td>\n",
       "      <td>0.0</td>\n",
       "      <td>120</td>\n",
       "      <td>[300, 650, 250, 350, 800, 1000, 150, 400, 532,...</td>\n",
       "    </tr>\n",
       "    <tr>\n",
       "      <th>Total ratings</th>\n",
       "      <td>int64</td>\n",
       "      <td>0.0</td>\n",
       "      <td>8</td>\n",
       "      <td>[100, 500, 50, 80, 1000, 5000, 20, 10000]</td>\n",
       "    </tr>\n",
       "    <tr>\n",
       "      <th>Delivery time</th>\n",
       "      <td>int64</td>\n",
       "      <td>0.0</td>\n",
       "      <td>81</td>\n",
       "      <td>[59, 56, 50, 57, 63, 53, 55, 54, 48, 52, 90, 4...</td>\n",
       "    </tr>\n",
       "    <tr>\n",
       "      <th>Avg ratings</th>\n",
       "      <td>float64</td>\n",
       "      <td>0.0</td>\n",
       "      <td>30</td>\n",
       "      <td>[4.4, 4.1, 3.9, 4.0, 4.5, 4.3, 4.2, 2.9, 3.8, ...</td>\n",
       "    </tr>\n",
       "    <tr>\n",
       "      <th>Area</th>\n",
       "      <td>object</td>\n",
       "      <td>0.0</td>\n",
       "      <td>833</td>\n",
       "      <td>[Koramangala, Jogupalya, Indiranagar, Domlur, ...</td>\n",
       "    </tr>\n",
       "    <tr>\n",
       "      <th>City</th>\n",
       "      <td>object</td>\n",
       "      <td>0.0</td>\n",
       "      <td>9</td>\n",
       "      <td>[Bangalore, Hyderabad, Mumbai, Pune, Kolkata, ...</td>\n",
       "    </tr>\n",
       "    <tr>\n",
       "      <th>Restaurant</th>\n",
       "      <td>object</td>\n",
       "      <td>0.0</td>\n",
       "      <td>7865</td>\n",
       "      <td>[Tandoor Hut, Tunday Kababi, Kim Lee, New Punj...</td>\n",
       "    </tr>\n",
       "    <tr>\n",
       "      <th>Food type</th>\n",
       "      <td>object</td>\n",
       "      <td>0.0</td>\n",
       "      <td>3734</td>\n",
       "      <td>[Biryani,Chinese,North Indian,South Indian, Mu...</td>\n",
       "    </tr>\n",
       "    <tr>\n",
       "      <th>Address</th>\n",
       "      <td>object</td>\n",
       "      <td>0.0</td>\n",
       "      <td>2339</td>\n",
       "      <td>[5Th Block, Double Road, 80 Feet Road, 100 Fee...</td>\n",
       "    </tr>\n",
       "  </tbody>\n",
       "</table>\n",
       "</div>"
      ],
      "text/plain": [
       "              data type  percent missing  No. unique  \\\n",
       "ID                int64              0.0        8680   \n",
       "Price             int64              0.0         120   \n",
       "Total ratings     int64              0.0           8   \n",
       "Delivery time     int64              0.0          81   \n",
       "Avg ratings     float64              0.0          30   \n",
       "Area             object              0.0         833   \n",
       "City             object              0.0           9   \n",
       "Restaurant       object              0.0        7865   \n",
       "Food type        object              0.0        3734   \n",
       "Address          object              0.0        2339   \n",
       "\n",
       "                                                   unique values  \n",
       "ID             [211, 221, 246, 248, 249, 254, 258, 263, 267, ...  \n",
       "Price          [300, 650, 250, 350, 800, 1000, 150, 400, 532,...  \n",
       "Total ratings          [100, 500, 50, 80, 1000, 5000, 20, 10000]  \n",
       "Delivery time  [59, 56, 50, 57, 63, 53, 55, 54, 48, 52, 90, 4...  \n",
       "Avg ratings    [4.4, 4.1, 3.9, 4.0, 4.5, 4.3, 4.2, 2.9, 3.8, ...  \n",
       "Area           [Koramangala, Jogupalya, Indiranagar, Domlur, ...  \n",
       "City           [Bangalore, Hyderabad, Mumbai, Pune, Kolkata, ...  \n",
       "Restaurant     [Tandoor Hut, Tunday Kababi, Kim Lee, New Punj...  \n",
       "Food type      [Biryani,Chinese,North Indian,South Indian, Mu...  \n",
       "Address        [5Th Block, Double Road, 80 Feet Road, 100 Fee...  "
      ]
     },
     "execution_count": 24,
     "metadata": {},
     "output_type": "execute_result"
    }
   ],
   "source": [
    "sniff_modified(df)"
   ]
  },
  {
   "cell_type": "code",
   "execution_count": 25,
   "id": "cfed6638",
   "metadata": {},
   "outputs": [
    {
     "data": {
      "text/html": [
       "<div>\n",
       "<style scoped>\n",
       "    .dataframe tbody tr th:only-of-type {\n",
       "        vertical-align: middle;\n",
       "    }\n",
       "\n",
       "    .dataframe tbody tr th {\n",
       "        vertical-align: top;\n",
       "    }\n",
       "\n",
       "    .dataframe thead th {\n",
       "        text-align: right;\n",
       "    }\n",
       "</style>\n",
       "<table border=\"1\" class=\"dataframe\">\n",
       "  <thead>\n",
       "    <tr style=\"text-align: right;\">\n",
       "      <th></th>\n",
       "      <th>ID</th>\n",
       "      <th>Area</th>\n",
       "      <th>City</th>\n",
       "      <th>Restaurant</th>\n",
       "      <th>Price</th>\n",
       "      <th>Avg ratings</th>\n",
       "      <th>Total ratings</th>\n",
       "      <th>Food type</th>\n",
       "      <th>Address</th>\n",
       "      <th>Delivery time</th>\n",
       "    </tr>\n",
       "  </thead>\n",
       "  <tbody>\n",
       "    <tr>\n",
       "      <th>0</th>\n",
       "      <td>211</td>\n",
       "      <td>Koramangala</td>\n",
       "      <td>Bangalore</td>\n",
       "      <td>Tandoor Hut</td>\n",
       "      <td>300</td>\n",
       "      <td>4.4</td>\n",
       "      <td>100</td>\n",
       "      <td>Biryani,Chinese,North Indian,South Indian</td>\n",
       "      <td>5Th Block</td>\n",
       "      <td>59</td>\n",
       "    </tr>\n",
       "    <tr>\n",
       "      <th>1</th>\n",
       "      <td>221</td>\n",
       "      <td>Koramangala</td>\n",
       "      <td>Bangalore</td>\n",
       "      <td>Tunday Kababi</td>\n",
       "      <td>300</td>\n",
       "      <td>4.1</td>\n",
       "      <td>100</td>\n",
       "      <td>Mughlai,Lucknowi</td>\n",
       "      <td>5Th Block</td>\n",
       "      <td>56</td>\n",
       "    </tr>\n",
       "    <tr>\n",
       "      <th>2</th>\n",
       "      <td>246</td>\n",
       "      <td>Jogupalya</td>\n",
       "      <td>Bangalore</td>\n",
       "      <td>Kim Lee</td>\n",
       "      <td>650</td>\n",
       "      <td>4.4</td>\n",
       "      <td>100</td>\n",
       "      <td>Chinese</td>\n",
       "      <td>Double Road</td>\n",
       "      <td>50</td>\n",
       "    </tr>\n",
       "    <tr>\n",
       "      <th>3</th>\n",
       "      <td>248</td>\n",
       "      <td>Indiranagar</td>\n",
       "      <td>Bangalore</td>\n",
       "      <td>New Punjabi Hotel</td>\n",
       "      <td>250</td>\n",
       "      <td>3.9</td>\n",
       "      <td>500</td>\n",
       "      <td>North Indian,Punjabi,Tandoor,Chinese</td>\n",
       "      <td>80 Feet Road</td>\n",
       "      <td>57</td>\n",
       "    </tr>\n",
       "    <tr>\n",
       "      <th>4</th>\n",
       "      <td>249</td>\n",
       "      <td>Indiranagar</td>\n",
       "      <td>Bangalore</td>\n",
       "      <td>Nh8</td>\n",
       "      <td>350</td>\n",
       "      <td>4.0</td>\n",
       "      <td>50</td>\n",
       "      <td>Rajasthani,Gujarati,North Indian,Snacks,Desser...</td>\n",
       "      <td>80 Feet Road</td>\n",
       "      <td>63</td>\n",
       "    </tr>\n",
       "  </tbody>\n",
       "</table>\n",
       "</div>"
      ],
      "text/plain": [
       "    ID         Area       City         Restaurant  Price  Avg ratings  \\\n",
       "0  211  Koramangala  Bangalore        Tandoor Hut    300          4.4   \n",
       "1  221  Koramangala  Bangalore      Tunday Kababi    300          4.1   \n",
       "2  246    Jogupalya  Bangalore            Kim Lee    650          4.4   \n",
       "3  248  Indiranagar  Bangalore  New Punjabi Hotel    250          3.9   \n",
       "4  249  Indiranagar  Bangalore                Nh8    350          4.0   \n",
       "\n",
       "   Total ratings                                          Food type  \\\n",
       "0            100          Biryani,Chinese,North Indian,South Indian   \n",
       "1            100                                   Mughlai,Lucknowi   \n",
       "2            100                                            Chinese   \n",
       "3            500               North Indian,Punjabi,Tandoor,Chinese   \n",
       "4             50  Rajasthani,Gujarati,North Indian,Snacks,Desser...   \n",
       "\n",
       "        Address  Delivery time  \n",
       "0     5Th Block             59  \n",
       "1     5Th Block             56  \n",
       "2   Double Road             50  \n",
       "3  80 Feet Road             57  \n",
       "4  80 Feet Road             63  "
      ]
     },
     "execution_count": 25,
     "metadata": {},
     "output_type": "execute_result"
    }
   ],
   "source": [
    "df.head()"
   ]
  },
  {
   "cell_type": "markdown",
   "id": "c4b34b6a",
   "metadata": {},
   "source": [
    "# <font color= \"PURPLE\"> Frequency of Average Ratings </font>"
   ]
  },
  {
   "cell_type": "code",
   "execution_count": 26,
   "id": "3fe4716a",
   "metadata": {},
   "outputs": [
    {
     "data": {
      "image/png": "[encoded data removed]",
      "text/plain": [
       "<Figure size 432x288 with 1 Axes>"
      ]
     },
     "metadata": {
      "needs_background": "light"
     },
     "output_type": "display_data"
    }
   ],
   "source": [
    "#create a histogram\n",
    "plt.hist(df['Avg ratings'])\n",
    "plt.xlabel('Average Ratings')\n",
    "plt.ylabel('Frequency')\n",
    "plt.title('Frequency of Average Ratings',fontdict={'fontweight':'bold'})\n",
    "plt.show()"
   ]
  },
  {
   "cell_type": "markdown",
   "id": "6c92be0d",
   "metadata": {},
   "source": [
    "## <font color= \"PURPLE\"> Top 5 Restraurant by total ratings "
   ]
  },
  {
   "cell_type": "code",
   "execution_count": 27,
   "id": "dd8da10f",
   "metadata": {},
   "outputs": [
    {
     "data": {
      "text/plain": [
       "Restaurant\n",
       "Shah Ghouse Cafe & Restaurant    15000\n",
       "Mehfil                           10160\n",
       "Lucky Restaurant                 10020\n",
       "Bawarchi                         10000\n",
       "4M Biryani House                 10000\n",
       "Name: Total ratings, dtype: int64"
      ]
     },
     "execution_count": 27,
     "metadata": {},
     "output_type": "execute_result"
    }
   ],
   "source": [
    "top5restro = df.groupby('Restaurant')['Total ratings'].sum().sort_values(ascending = False).head(5)\n",
    "top5restro"
   ]
  },
  {
   "cell_type": "markdown",
   "id": "9454d063",
   "metadata": {},
   "source": [
    "## <font color= \"PURPLE\"> Top 5 Restaurant with delivery time </font>\n"
   ]
  },
  {
   "cell_type": "code",
   "execution_count": 28,
   "id": "0ce78e37",
   "metadata": {},
   "outputs": [
    {
     "data": {
      "text/plain": [
       "Restaurant\n",
       "Wah Ji Wah ( Budhvihar)    21\n",
       "Sarvottam Restaurant       22\n",
       "Hotel Niagara              23\n",
       "Grand Hotel                24\n",
       "Famous Ice Cream           24\n",
       "Name: Delivery time, dtype: int64"
      ]
     },
     "execution_count": 28,
     "metadata": {},
     "output_type": "execute_result"
    }
   ],
   "source": [
    "restrotime = df.groupby('Restaurant')['Delivery time'].sum().sort_values(ascending = True).head(5)\n",
    "restrotime"
   ]
  },
  {
   "cell_type": "markdown",
   "id": "7c7cc6f1",
   "metadata": {},
   "source": [
    "## <font color= \"PURPLE\"> Top 5 Area with Avg. order of 2 Person </font>\n"
   ]
  },
  {
   "cell_type": "code",
   "execution_count": 29,
   "id": "1906bbaf",
   "metadata": {},
   "outputs": [
    {
     "data": {
      "text/plain": [
       "Area\n",
       "Vasanth Nagar        2500\n",
       "Mylapore             2500\n",
       "Scruz Bandra East    2500\n",
       "Bandra Area          2000\n",
       "Sangamvadi           2000\n",
       "Name: Price, dtype: int64"
      ]
     },
     "execution_count": 29,
     "metadata": {},
     "output_type": "execute_result"
    }
   ],
   "source": [
    "restrotime = df.groupby('Area')['Price'].max().sort_values(ascending = False).head(5)\n",
    "restrotime"
   ]
  },
  {
   "cell_type": "code",
   "execution_count": 30,
   "id": "30df35ec",
   "metadata": {},
   "outputs": [],
   "source": [
    "categorical_cols = df.dtypes[df.dtypes == 'object'].index\n",
    "numerical_cols = df.dtypes[df.dtypes != 'object'].index\n"
   ]
  },
  {
   "cell_type": "code",
   "execution_count": 31,
   "id": "b0d9ab1d",
   "metadata": {},
   "outputs": [
    {
     "data": {
      "text/plain": [
       "(Index(['Area', 'City', 'Restaurant', 'Food type', 'Address'], dtype='object'),\n",
       " Index(['ID', 'Price', 'Avg ratings', 'Total ratings', 'Delivery time'], dtype='object'))"
      ]
     },
     "execution_count": 31,
     "metadata": {},
     "output_type": "execute_result"
    }
   ],
   "source": [
    "categorical_cols, numerical_cols"
   ]
  },
  {
   "cell_type": "markdown",
   "id": "822192d2",
   "metadata": {},
   "source": [
    "## <font color= \"PURPLE\"> Univariant </font>"
   ]
  },
  {
   "cell_type": "code",
   "execution_count": 32,
   "id": "01637aed",
   "metadata": {},
   "outputs": [
    {
     "data": {
      "image/png": "[encoded data removed]",
      "text/plain": [
       "<Figure size 720x432 with 1 Axes>"
      ]
     },
     "metadata": {
      "needs_background": "light"
     },
     "output_type": "display_data"
    },
    {
     "name": "stdout",
     "output_type": "stream",
     "text": [
      "244812.07142857142\n",
      "283442.0\n"
     ]
    },
    {
     "data": {
      "image/png": "[encoded data removed]",
      "text/plain": [
       "<Figure size 720x432 with 1 Axes>"
      ]
     },
     "metadata": {
      "needs_background": "light"
     },
     "output_type": "display_data"
    },
    {
     "name": "stdout",
     "output_type": "stream",
     "text": [
      "348.4444700460829\n",
      "300.0\n"
     ]
    },
    {
     "data": {
      "image/png": "[encoded data removed]",
      "text/plain": [
       "<Figure size 720x432 with 1 Axes>"
      ]
     },
     "metadata": {
      "needs_background": "light"
     },
     "output_type": "display_data"
    },
    {
     "name": "stdout",
     "output_type": "stream",
     "text": [
      "3.655103686635944\n",
      "3.9\n"
     ]
    },
    {
     "data": {
      "image/png": "[encoded data removed]",
      "text/plain": [
       "<Figure size 720x432 with 1 Axes>"
      ]
     },
     "metadata": {
      "needs_background": "light"
     },
     "output_type": "display_data"
    },
    {
     "name": "stdout",
     "output_type": "stream",
     "text": [
      "156.6347926267281\n",
      "80.0\n"
     ]
    },
    {
     "data": {
      "image/png": "[encoded data removed]",
      "text/plain": [
       "<Figure size 720x432 with 1 Axes>"
      ]
     },
     "metadata": {
      "needs_background": "light"
     },
     "output_type": "display_data"
    },
    {
     "name": "stdout",
     "output_type": "stream",
     "text": [
      "53.96705069124424\n",
      "53.0\n"
     ]
    }
   ],
   "source": [
    "numerical_cols = df.dtypes[df.dtypes != 'object'].index\n",
    "\n",
    "for col in numerical_cols:\n",
    "    fig, ax = plt.subplots(figsize=(10, 6))\n",
    "    df[col].hist(bins=10)\n",
    "    plt.title(f'Histogram of {col}')\n",
    "    plt.xlabel(col)\n",
    "    plt.ylabel('Frequency')\n",
    "    plt.show()\n",
    "    print(df[col].mean())\n",
    "    print(df[col].median())"
   ]
  },
  {
   "cell_type": "markdown",
   "id": "6514e889",
   "metadata": {},
   "source": [
    " ## <font color= \"PURPLE\"> Bivariant </font>"
   ]
  },
  {
   "cell_type": "code",
   "execution_count": 33,
   "id": "0d8f987c",
   "metadata": {},
   "outputs": [
    {
     "data": {
      "text/html": [
       "<div>\n",
       "<style scoped>\n",
       "    .dataframe tbody tr th:only-of-type {\n",
       "        vertical-align: middle;\n",
       "    }\n",
       "\n",
       "    .dataframe tbody tr th {\n",
       "        vertical-align: top;\n",
       "    }\n",
       "\n",
       "    .dataframe thead th {\n",
       "        text-align: right;\n",
       "    }\n",
       "</style>\n",
       "<table border=\"1\" class=\"dataframe\">\n",
       "  <thead>\n",
       "    <tr style=\"text-align: right;\">\n",
       "      <th></th>\n",
       "      <th>ID</th>\n",
       "      <th>Price</th>\n",
       "      <th>Avg ratings</th>\n",
       "      <th>Total ratings</th>\n",
       "      <th>Delivery time</th>\n",
       "    </tr>\n",
       "  </thead>\n",
       "  <tbody>\n",
       "    <tr>\n",
       "      <th>ID</th>\n",
       "      <td>1.000000</td>\n",
       "      <td>-0.144086</td>\n",
       "      <td>-0.457958</td>\n",
       "      <td>-0.189149</td>\n",
       "      <td>0.143817</td>\n",
       "    </tr>\n",
       "    <tr>\n",
       "      <th>Price</th>\n",
       "      <td>-0.144086</td>\n",
       "      <td>1.000000</td>\n",
       "      <td>0.113630</td>\n",
       "      <td>-0.014672</td>\n",
       "      <td>0.076009</td>\n",
       "    </tr>\n",
       "    <tr>\n",
       "      <th>Avg ratings</th>\n",
       "      <td>-0.457958</td>\n",
       "      <td>0.113630</td>\n",
       "      <td>1.000000</td>\n",
       "      <td>0.157900</td>\n",
       "      <td>-0.146987</td>\n",
       "    </tr>\n",
       "    <tr>\n",
       "      <th>Total ratings</th>\n",
       "      <td>-0.189149</td>\n",
       "      <td>-0.014672</td>\n",
       "      <td>0.157900</td>\n",
       "      <td>1.000000</td>\n",
       "      <td>-0.084090</td>\n",
       "    </tr>\n",
       "    <tr>\n",
       "      <th>Delivery time</th>\n",
       "      <td>0.143817</td>\n",
       "      <td>0.076009</td>\n",
       "      <td>-0.146987</td>\n",
       "      <td>-0.084090</td>\n",
       "      <td>1.000000</td>\n",
       "    </tr>\n",
       "  </tbody>\n",
       "</table>\n",
       "</div>"
      ],
      "text/plain": [
       "                     ID     Price  Avg ratings  Total ratings  Delivery time\n",
       "ID             1.000000 -0.144086    -0.457958      -0.189149       0.143817\n",
       "Price         -0.144086  1.000000     0.113630      -0.014672       0.076009\n",
       "Avg ratings   -0.457958  0.113630     1.000000       0.157900      -0.146987\n",
       "Total ratings -0.189149 -0.014672     0.157900       1.000000      -0.084090\n",
       "Delivery time  0.143817  0.076009    -0.146987      -0.084090       1.000000"
      ]
     },
     "execution_count": 33,
     "metadata": {},
     "output_type": "execute_result"
    }
   ],
   "source": [
    "correlation_matrix = df[numerical_cols].corr()\n",
    "correlation_matrix"
   ]
  },
  {
   "cell_type": "code",
   "execution_count": 34,
   "id": "1d0a4f1f",
   "metadata": {},
   "outputs": [
    {
     "data": {
      "image/png": "[encoded data removed]",
      "text/plain": [
       "<Figure size 720x720 with 2 Axes>"
      ]
     },
     "metadata": {
      "needs_background": "light"
     },
     "output_type": "display_data"
    }
   ],
   "source": [
    "plt.figure(figsize=(10, 10))\n",
    "sns.heatmap(correlation_matrix, annot=True, cmap='coolwarm', fmt=\".2f\", linewidths=.5)\n",
    "plt.title('Correlation Matrix')\n",
    "plt.show()"
   ]
  },
  {
   "cell_type": "code",
   "execution_count": 35,
   "id": "1cc895f8",
   "metadata": {},
   "outputs": [
    {
     "data": {
      "image/png": "[encoded data removed]",
      "text/plain": [
       "<Figure size 432x288 with 1 Axes>"
      ]
     },
     "metadata": {
      "needs_background": "light"
     },
     "output_type": "display_data"
    },
    {
     "name": "stdout",
     "output_type": "stream",
     "text": [
      "Correlation Coefficient: 0.11363038630435679\n"
     ]
    }
   ],
   "source": [
    "sns.scatterplot(x='Price', y='Avg ratings', data=df)\n",
    "plt.title('Scatter Plot of Price vs Avg ratings')\n",
    "plt.xlabel('Price')\n",
    "plt.ylabel('Avg ratings')\n",
    "plt.show()\n",
    "\n",
    "# Correlation coefficient\n",
    "correlation_coefficient = df['Price'].corr(df['Avg ratings'])\n",
    "print(f'Correlation Coefficient: {correlation_coefficient}')"
   ]
  },
  {
   "cell_type": "code",
   "execution_count": 44,
   "id": "74e9b48c",
   "metadata": {},
   "outputs": [
    {
     "data": {
      "image/png": "[encoded data removed]",
      "text/plain": [
       "<Figure size 432x288 with 1 Axes>"
      ]
     },
     "metadata": {
      "needs_background": "light"
     },
     "output_type": "display_data"
    },
    {
     "name": "stdout",
     "output_type": "stream",
     "text": [
      "Correlation Coefficient: -0.14698693568882568\n"
     ]
    }
   ],
   "source": [
    "sns.scatterplot(x='Delivery time', y='Avg ratings', data=df)\n",
    "plt.title('Scatter Plot of Delivery time vs Avg ratings')\n",
    "plt.xlabel('Delivery time')\n",
    "plt.ylabel('Avg ratings')\n",
    "plt.show()\n",
    "\n",
    "# Correlation coefficient\n",
    "correlation_coefficient = df['Delivery time'].corr(df['Avg ratings'])\n",
    "print(f'Correlation Coefficient: {correlation_coefficient}')"
   ]
  },
  {
   "cell_type": "markdown",
   "id": "68d154ad",
   "metadata": {},
   "source": [
    "# <font color = \"Blue\"> Advanced Machine Learning Analysis </font>\n",
    "\n",
    "## Feature Engineering"
   ]
  },
  {
   "cell_type": "code",
   "execution_count": 45,
   "id": "cde42859",
   "metadata": {},
   "outputs": [],
   "source": [
    "label_encoder = LabelEncoder()\n",
    "df[categorical_cols]=df[categorical_cols].apply(LabelEncoder().fit_transform)"
   ]
  },
  {
   "cell_type": "code",
   "execution_count": 46,
   "id": "86d2fe0d",
   "metadata": {},
   "outputs": [],
   "source": [
    "min_max_scaler = MinMaxScaler()\n",
    "df[numerical_cols] = min_max_scaler.fit_transform(df[numerical_cols])"
   ]
  },
  {
   "cell_type": "code",
   "execution_count": 47,
   "id": "44bb2434",
   "metadata": {},
   "outputs": [],
   "source": [
    "id_col= ['Restaurant']\n",
    "target_col = ['Delivery time']"
   ]
  },
  {
   "cell_type": "code",
   "execution_count": 48,
   "id": "384188ef",
   "metadata": {},
   "outputs": [],
   "source": [
    "X = df.drop(target_col, axis=1)\n",
    "y=df[target_col]"
   ]
  },
  {
   "cell_type": "code",
   "execution_count": 49,
   "id": "3eab7aba",
   "metadata": {},
   "outputs": [
    {
     "data": {
      "text/plain": [
       "((8680, 9), (8680, 1))"
      ]
     },
     "execution_count": 49,
     "metadata": {},
     "output_type": "execute_result"
    }
   ],
   "source": [
    "X.shape, y.shape"
   ]
  },
  {
   "cell_type": "code",
   "execution_count": 50,
   "id": "ab2cc66c",
   "metadata": {},
   "outputs": [],
   "source": [
    "X_train, X_test, y_train, y_test = train_test_split(X,y, test_size= 0.20)"
   ]
  },
  {
   "cell_type": "markdown",
   "id": "2ad35b68",
   "metadata": {},
   "source": [
    "## <font color= \"PURPLE\"> Decision Tree Regressor </font>"
   ]
  },
  {
   "cell_type": "code",
   "execution_count": 51,
   "id": "79466db8",
   "metadata": {
    "scrolled": true
   },
   "outputs": [
    {
     "name": "stdout",
     "output_type": "stream",
     "text": [
      "Mean Squared Error: 0.016469011092836692\n"
     ]
    }
   ],
   "source": [
    "model = DecisionTreeRegressor()\n",
    "\n",
    "# Fit the model to the training data\n",
    "model.fit(X_train, y_train)\n",
    "\n",
    "# Make predictions on the test set\n",
    "predictions = model.predict(X_test)\n",
    "\n",
    "# Evaluate the model\n",
    "mse = mean_squared_error(y_test, predictions)\n",
    "print(f'Mean Squared Error: {mse}')"
   ]
  },
  {
   "cell_type": "markdown",
   "id": "eeb6d472",
   "metadata": {},
   "source": [
    "## <font color= \"PURPLE\"> Random Forest Regressor </font>"
   ]
  },
  {
   "cell_type": "code",
   "execution_count": 52,
   "id": "17c23533",
   "metadata": {},
   "outputs": [
    {
     "name": "stdout",
     "output_type": "stream",
     "text": [
      "Mean Squared Error: 0.008476661322029696\n"
     ]
    }
   ],
   "source": [
    "random = RandomForestRegressor(n_estimators=100, random_state=42)\n",
    "\n",
    "# Fit the model to the training data\n",
    "random.fit(X_train, y_train) # ravel() is used to flatten y_train\n",
    "\n",
    "# Make predictions on the test set\n",
    "predictions = random.predict(X_test)\n",
    "\n",
    "# Evaluate the model\n",
    "mse = mean_squared_error(y_test, predictions)\n",
    "print(f'Mean Squared Error: {mse}')"
   ]
  },
  {
   "cell_type": "code",
   "execution_count": null,
   "id": "6d7b48fb",
   "metadata": {},
   "outputs": [],
   "source": []
  }
 ],
 "metadata": {
  "kernelspec": {
   "display_name": "Python 3 (ipykernel)",
   "language": "python",
   "name": "python3"
  },
  "language_info": {
   "codemirror_mode": {
    "name": "ipython",
    "version": 3
   },
   "file_extension": ".py",
   "mimetype": "text/x-python",
   "name": "python",
   "nbconvert_exporter": "python",
   "pygments_lexer": "ipython3",
   "version": "3.9.7"
  }
 },
 "nbformat": 4,
 "nbformat_minor": 5
}
